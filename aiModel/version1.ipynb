{
 "cells": [
  {
   "cell_type": "code",
   "execution_count": null,
   "metadata": {},
   "outputs": [],
   "source": [
    "import os\n",
    "import numpy as np\n",
    "import pandas as pd\n",
    "from PIL import Image\n",
    "import tensorflow as tf\n",
    "import cv2  \n",
    "import matplotlib.pyplot as plt\n",
    "\n",
    "print(\"ok\")"
   ]
  },
  {
   "cell_type": "code",
   "execution_count": null,
   "metadata": {},
   "outputs": [],
   "source": [
    "dataset_path=\"/kaggle/input/moddelite/ModdeDataset\"\n",
    "\n",
    "# MALE DATA\n",
    "jeansM_dir = dataset_path + \"/jeansM\"\n",
    "pantsM_dir = dataset_path + \"/pantsM\"\n",
    "shirts_dir = dataset_path + \"/shirtsM\"\n",
    "shortsM_dir = dataset_path + \"/shortsM\"\n",
    "tshirtsM_dir = dataset_path + \"/tshirtsM\"\n",
    "\n",
    "# FEMALE DATA\n",
    "jeansW_dir = dataset_path + \"/jeansW\"\n",
    "tshirtsW_dir = dataset_path + \"/tshirtW\"\n",
    "shortsW_dir = dataset_path + \"/shortsW\"\n",
    "pantsW_dir = dataset_path + \"/pantsW\"\n",
    "skirts_dir = dataset_path + \"/skirt\"\n",
    "topsW_dir=dataset_path+\"/topsW\"\n",
    "dress_dir = dataset_path + \"/dress\"\n",
    "\n",
    "if(os.path.exists(dataset_path)):\n",
    "    print(\"dataset exists\")\n",
    "else:\n",
    "    print(\"paths arent alligned properly\")"
   ]
  }
 ],
 "metadata": {
  "kernelspec": {
   "display_name": "Python 3",
   "language": "python",
   "name": "python3"
  },
  "language_info": {
   "name": "python",
   "version": "3.11.4"
  }
 },
 "nbformat": 4,
 "nbformat_minor": 2
}
